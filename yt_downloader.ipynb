{
  "nbformat": 4,
  "nbformat_minor": 0,
  "metadata": {
    "colab": {
      "provenance": [],
      "mount_file_id": "1lpwosu9T73nRz83LBahn5sc2s_bn4Z65",
      "authorship_tag": "ABX9TyPqi+WR9NsB05+KwbndjICR",
      "include_colab_link": true
    },
    "kernelspec": {
      "name": "python3",
      "display_name": "Python 3"
    },
    "language_info": {
      "name": "python"
    }
  },
  "cells": [
    {
      "cell_type": "markdown",
      "metadata": {
        "id": "view-in-github",
        "colab_type": "text"
      },
      "source": [
        "<a href=\"https://colab.research.google.com/github/Amaan-Samar/colab/blob/main/yt_downloader.ipynb\" target=\"_parent\"><img src=\"https://colab.research.google.com/assets/colab-badge.svg\" alt=\"Open In Colab\"/></a>"
      ]
    },
    {
      "cell_type": "code",
      "source": [
        "url = '   https://youtu.be/rqGNDT_utao?si=6u9XFIp-slUSyxfm    '\n",
        "url = url.strip()\n",
        "print(url)\n",
        "\n",
        "audio = True\n",
        "video = True"
      ],
      "metadata": {
        "colab": {
          "base_uri": "https://localhost:8080/"
        },
        "id": "rEmdDgCUMDp8",
        "outputId": "2c515fb1-62b4-4f10-e823-708e09689e3f"
      },
      "execution_count": 22,
      "outputs": [
        {
          "output_type": "stream",
          "name": "stdout",
          "text": [
            "https://youtu.be/rqGNDT_utao?si=6u9XFIp-slUSyxfm\n"
          ]
        }
      ]
    },
    {
      "cell_type": "code",
      "execution_count": null,
      "metadata": {
        "id": "f0-1nczh0ACa"
      },
      "outputs": [],
      "source": [
        "!pip install pytube\n",
        "from pprint import pprint\n",
        "from pytube import YouTube\n",
        "import os\n",
        "from google.colab import drive\n"
      ]
    },
    {
      "cell_type": "code",
      "source": [
        "yt = YouTube(url)\n",
        "print(yt.title,\"\\n\")\n",
        "\n",
        "if video:\n",
        "  print(\"videos:\")\n",
        "  for i in yt.streams.filter(progressive=True):\n",
        "    pprint(i)\n",
        "\n",
        "if audio:\n",
        "  print(\"\\nAudios\")\n",
        "  for i in yt.streams.filter(type=\"audio\"):\n",
        "    pprint(i)"
      ],
      "metadata": {
        "id": "8tchqkzF80Wz",
        "colab": {
          "base_uri": "https://localhost:8080/"
        },
        "outputId": "a9d67096-0367-46a0-b57b-ebec4f80537b"
      },
      "execution_count": 23,
      "outputs": [
        {
          "output_type": "stream",
          "name": "stdout",
          "text": [
            "Beginners Guide to Dropshipping in 2024 (18+ Hours) \n",
            "\n",
            "videos:\n",
            "<Stream: itag=\"18\" mime_type=\"video/mp4\" res=\"360p\" fps=\"30fps\" vcodec=\"avc1.42001E\" acodec=\"mp4a.40.2\" progressive=\"True\" type=\"video\">\n",
            "<Stream: itag=\"22\" mime_type=\"video/mp4\" res=\"720p\" fps=\"30fps\" vcodec=\"avc1.64001F\" acodec=\"mp4a.40.2\" progressive=\"True\" type=\"video\">\n"
          ]
        }
      ]
    },
    {
      "cell_type": "code",
      "source": [
        "print(\"Current dir: \",os.getcwd())"
      ],
      "metadata": {
        "id": "0aSiBF26KB_E"
      },
      "execution_count": null,
      "outputs": []
    },
    {
      "cell_type": "code",
      "source": [
        "# os.chdir(\"/content/\")\n",
        "# os.chdir(\"/content/drive/MyDrive/Soft\")\n",
        "\n",
        "drive = '/content/drive'\n",
        "cources = \"/content/drive/MyDrive/config\"\n",
        "\n",
        "if not os.path.exists(drive):\n",
        "  drive.mount(drive)\n",
        "\n",
        "if not os.path.exists(cources):\n",
        "  print(f\"Could not find the path. {cources} \\nmaking dir: {cources}\")\n",
        "elif os.path.exists(cources):\n",
        "  os.chdir(cources)"
      ],
      "metadata": {
        "id": "6aOJiFqjEtOk"
      },
      "execution_count": null,
      "outputs": []
    },
    {
      "cell_type": "code",
      "source": [
        "stream = yt.streams.get_by_itag(22)\n",
        "stream.download()"
      ],
      "metadata": {
        "id": "3b6cSMZU-uHm"
      },
      "execution_count": 11,
      "outputs": []
    }
  ]
}